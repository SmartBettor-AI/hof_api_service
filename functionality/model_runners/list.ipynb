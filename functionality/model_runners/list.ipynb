{
 "cells": [
  {
   "cell_type": "code",
   "execution_count": 1,
   "metadata": {},
   "outputs": [],
   "source": [
    "my_list = ['betonlineag', 'betmgm', 'betrivers', 'betus', 'bovada', 'draftkings', 'fanduel', 'lowvig', 'mybookieag', 'pointsbetus', 'superbook', 'unibet_us', 'williamhill_us', 'wynnbet', 'ballybet', 'betparx', 'espnbet', 'fliff', 'hardrockbet', 'sisportsbook', 'tipico_us','windcreek']"
   ]
  },
  {
   "cell_type": "code",
   "execution_count": 2,
   "metadata": {},
   "outputs": [],
   "source": [
    "odds_list = [f'{key}_1_odds' for key in my_list]\n",
    "points_list = [f'{key}_1_points' for key in my_list]"
   ]
  },
  {
   "cell_type": "code",
   "execution_count": 5,
   "metadata": {},
   "outputs": [],
   "source": [
    "test_list = odds_list  + points_list"
   ]
  },
  {
   "cell_type": "code",
   "execution_count": 6,
   "metadata": {},
   "outputs": [
    {
     "data": {
      "text/plain": [
       "['betonlineag_1_odds',\n",
       " 'betmgm_1_odds',\n",
       " 'betrivers_1_odds',\n",
       " 'betus_1_odds',\n",
       " 'bovada_1_odds',\n",
       " 'draftkings_1_odds',\n",
       " 'fanduel_1_odds',\n",
       " 'lowvig_1_odds',\n",
       " 'mybookieag_1_odds',\n",
       " 'pointsbetus_1_odds',\n",
       " 'superbook_1_odds',\n",
       " 'unibet_us_1_odds',\n",
       " 'williamhill_us_1_odds',\n",
       " 'wynnbet_1_odds',\n",
       " 'ballybet_1_odds',\n",
       " 'betparx_1_odds',\n",
       " 'espnbet_1_odds',\n",
       " 'fliff_1_odds',\n",
       " 'hardrockbet_1_odds',\n",
       " 'sisportsbook_1_odds',\n",
       " 'tipico_us_1_odds',\n",
       " 'windcreek_1_odds',\n",
       " 'betonlineag_1_points',\n",
       " 'betmgm_1_points',\n",
       " 'betrivers_1_points',\n",
       " 'betus_1_points',\n",
       " 'bovada_1_points',\n",
       " 'draftkings_1_points',\n",
       " 'fanduel_1_points',\n",
       " 'lowvig_1_points',\n",
       " 'mybookieag_1_points',\n",
       " 'pointsbetus_1_points',\n",
       " 'superbook_1_points',\n",
       " 'unibet_us_1_points',\n",
       " 'williamhill_us_1_points',\n",
       " 'wynnbet_1_points',\n",
       " 'ballybet_1_points',\n",
       " 'betparx_1_points',\n",
       " 'espnbet_1_points',\n",
       " 'fliff_1_points',\n",
       " 'hardrockbet_1_points',\n",
       " 'sisportsbook_1_points',\n",
       " 'tipico_us_1_points',\n",
       " 'windcreek_1_points']"
      ]
     },
     "execution_count": 6,
     "metadata": {},
     "output_type": "execute_result"
    }
   ],
   "source": [
    "test_list"
   ]
  },
  {
   "cell_type": "code",
   "execution_count": 9,
   "metadata": {},
   "outputs": [],
   "source": [
    "my_list = ['betonlineag_1_odds',\n",
    " 'betmgm_1_odds',\n",
    " 'betrivers_1_odds',\n",
    " 'betus_1_odds',\n",
    " 'bovada_1_odds',\n",
    " 'draftkings_1_odds',\n",
    " 'fanduel_1_odds',\n",
    " 'lowvig_1_odds',\n",
    " 'mybookieag_1_odds',\n",
    " 'pointsbetus_1_odds',\n",
    " 'superbook_1_odds',\n",
    " 'unibet_us_1_odds',\n",
    " 'williamhill_us_1_odds',\n",
    " 'wynnbet_1_odds',\n",
    " 'ballybet_1_odds',\n",
    " 'betparx_1_odds',\n",
    " 'espnbet_1_odds',\n",
    " 'fliff_1_odds',\n",
    " 'hardrockbet_1_odds',\n",
    " 'sisportsbook_1_odds',\n",
    " 'tipico_us_1_odds',\n",
    " 'windcreek_1_odds',\n",
    " 'betonlineag_1_points',\n",
    " 'betmgm_1_points',\n",
    " 'betrivers_1_points',\n",
    " 'betus_1_points',\n",
    " 'bovada_1_points',\n",
    " 'draftkings_1_points',\n",
    " 'fanduel_1_points',\n",
    " 'lowvig_1_points',\n",
    " 'mybookieag_1_points',\n",
    " 'pointsbetus_1_points',\n",
    " 'superbook_1_points',\n",
    " 'unibet_us_1_points',\n",
    " 'williamhill_us_1_points',\n",
    " 'wynnbet_1_points',\n",
    " 'ballybet_1_points',\n",
    " 'betparx_1_points',\n",
    " 'espnbet_1_points',\n",
    " 'fliff_1_points',\n",
    " 'hardrockbet_1_points',\n",
    " 'sisportsbook_1_points',\n",
    " 'tipico_us_1_points',\n",
    " 'windcreek_1_points']\n",
    "\n",
    "new_list = [item.split('_1_odds')[0] for item in my_list]"
   ]
  },
  {
   "cell_type": "code",
   "execution_count": 10,
   "metadata": {},
   "outputs": [
    {
     "data": {
      "text/plain": [
       "['betonlineag',\n",
       " 'betmgm',\n",
       " 'betrivers',\n",
       " 'betus',\n",
       " 'bovada',\n",
       " 'draftkings',\n",
       " 'fanduel',\n",
       " 'lowvig',\n",
       " 'mybookieag',\n",
       " 'pointsbetus',\n",
       " 'superbook',\n",
       " 'unibet_us',\n",
       " 'williamhill_us',\n",
       " 'wynnbet',\n",
       " 'ballybet',\n",
       " 'betparx',\n",
       " 'espnbet',\n",
       " 'fliff',\n",
       " 'hardrockbet',\n",
       " 'sisportsbook',\n",
       " 'tipico_us',\n",
       " 'windcreek',\n",
       " 'betonlineag_1_points',\n",
       " 'betmgm_1_points',\n",
       " 'betrivers_1_points',\n",
       " 'betus_1_points',\n",
       " 'bovada_1_points',\n",
       " 'draftkings_1_points',\n",
       " 'fanduel_1_points',\n",
       " 'lowvig_1_points',\n",
       " 'mybookieag_1_points',\n",
       " 'pointsbetus_1_points',\n",
       " 'superbook_1_points',\n",
       " 'unibet_us_1_points',\n",
       " 'williamhill_us_1_points',\n",
       " 'wynnbet_1_points',\n",
       " 'ballybet_1_points',\n",
       " 'betparx_1_points',\n",
       " 'espnbet_1_points',\n",
       " 'fliff_1_points',\n",
       " 'hardrockbet_1_points',\n",
       " 'sisportsbook_1_points',\n",
       " 'tipico_us_1_points',\n",
       " 'windcreek_1_points']"
      ]
     },
     "execution_count": 10,
     "metadata": {},
     "output_type": "execute_result"
    }
   ],
   "source": [
    "new_list"
   ]
  },
  {
   "cell_type": "code",
   "execution_count": 1,
   "metadata": {},
   "outputs": [],
   "source": [
    "import time"
   ]
  },
  {
   "cell_type": "code",
   "execution_count": 2,
   "metadata": {},
   "outputs": [
    {
     "data": {
      "text/plain": [
       "'Wed Jun 12 22:28:36 2024'"
      ]
     },
     "execution_count": 2,
     "metadata": {},
     "output_type": "execute_result"
    }
   ],
   "source": [
    "time.ctime()"
   ]
  },
  {
   "cell_type": "code",
   "execution_count": 3,
   "metadata": {},
   "outputs": [],
   "source": [
    "from datetime import datetime, timezone"
   ]
  },
  {
   "cell_type": "code",
   "execution_count": 4,
   "metadata": {},
   "outputs": [],
   "source": [
    "current_utc_time = datetime.now(timezone.utc)\n"
   ]
  },
  {
   "cell_type": "code",
   "execution_count": 5,
   "metadata": {},
   "outputs": [
    {
     "data": {
      "text/plain": [
       "datetime.datetime(2024, 6, 13, 4, 29, 9, 855409, tzinfo=datetime.timezone.utc)"
      ]
     },
     "execution_count": 5,
     "metadata": {},
     "output_type": "execute_result"
    }
   ],
   "source": [
    "current_utc_time"
   ]
  },
  {
   "cell_type": "code",
   "execution_count": 7,
   "metadata": {},
   "outputs": [
    {
     "name": "stdout",
     "output_type": "stream",
     "text": [
      "Thu Jun 13 04:29:09 2024\n"
     ]
    }
   ],
   "source": [
    "formatted_utc_time = current_utc_time.strftime(\"%a %b %d %H:%M:%S %Y\")\n",
    "print(formatted_utc_time)"
   ]
  },
  {
   "cell_type": "code",
   "execution_count": null,
   "metadata": {},
   "outputs": [],
   "source": []
  }
 ],
 "metadata": {
  "kernelspec": {
   "display_name": "py4ml",
   "language": "python",
   "name": "python3"
  },
  "language_info": {
   "codemirror_mode": {
    "name": "ipython",
    "version": 3
   },
   "file_extension": ".py",
   "mimetype": "text/x-python",
   "name": "python",
   "nbconvert_exporter": "python",
   "pygments_lexer": "ipython3",
   "version": "3.10.13"
  }
 },
 "nbformat": 4,
 "nbformat_minor": 2
}
